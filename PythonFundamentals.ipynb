{
 "cells": [
  {
   "cell_type": "markdown",
   "id": "d94a85bd",
   "metadata": {},
   "source": [
    "# Python Fundamentals  \n",
    "\n",
    "## Breaking Operations into Separate Functions\n",
    "\n",
    "In this project you’ll be learning more about functions in Python and how the fact that functions are objects can lead to cleaner, more Pythonic code.\n",
    "\n",
    "1. Functions as dictionary values\n",
    "2. Mutable objects as default function parameters\n",
    "3. How to use and create decorators\n",
    "\n",
    "The product file I am importing contains the following columns:\n",
    "- SKU \n",
    "- Description\n",
    "- Cost\n",
    "- List Price \n",
    "- Number of units in stock \n",
    "- Target Margin\n"
   ]
  },
  {
   "cell_type": "code",
   "execution_count": null,
   "id": "52263648",
   "metadata": {},
   "outputs": [],
   "source": []
  }
 ],
 "metadata": {
  "kernelspec": {
   "display_name": "Python 3 (ipykernel)",
   "language": "python",
   "name": "python3"
  },
  "language_info": {
   "codemirror_mode": {
    "name": "ipython",
    "version": 3
   },
   "file_extension": ".py",
   "mimetype": "text/x-python",
   "name": "python",
   "nbconvert_exporter": "python",
   "pygments_lexer": "ipython3",
   "version": "3.8.12"
  }
 },
 "nbformat": 4,
 "nbformat_minor": 5
}
